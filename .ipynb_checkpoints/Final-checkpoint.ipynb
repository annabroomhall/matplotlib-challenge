{
 "cells": [
  {
   "cell_type": "markdown",
   "metadata": {},
   "source": [
    "## Observations and Insights "
   ]
  },
  {
   "cell_type": "markdown",
   "metadata": {},
   "source": []
  },
  {
   "cell_type": "markdown",
   "metadata": {},
   "source": [
    "Observations:\n",
    "\n",
    "* For mice treated with Capomulin, the correlation between Mouse Weight & Average Tumor Volume is 0.84.  This is a strong positive correlation between larger mice and larger tumors.  Important to consider this in further analysis to ensure weight is considered when judging efficacy of final tumor volume.\n",
    "* An R-squared value of 71% when looking at these two factors means this is a reasonable model to use for further predictions.\n",
    "* From the Box Plots reviewing the 4 selected Drug Regimens, Capomulin and Ramicane appear to reduce tumors more significantly than the other two treatments.  \n",
    "* This is further supported by the Line Chart tracking a single mouse treatment with Capomulin.  Worth continuing the study to monitor ongoing effectiveness of Capomulin."
   ]
  },
  {
   "cell_type": "code",
   "execution_count": 1,
   "metadata": {},
   "outputs": [
    {
     "data": {
      "text/html": [
       "<div>\n",
       "<style scoped>\n",
       "    .dataframe tbody tr th:only-of-type {\n",
       "        vertical-align: middle;\n",
       "    }\n",
       "\n",
       "    .dataframe tbody tr th {\n",
       "        vertical-align: top;\n",
       "    }\n",
       "\n",
       "    .dataframe thead th {\n",
       "        text-align: right;\n",
       "    }\n",
       "</style>\n",
       "<table border=\"1\" class=\"dataframe\">\n",
       "  <thead>\n",
       "    <tr style=\"text-align: right;\">\n",
       "      <th></th>\n",
       "      <th>Mouse_ID</th>\n",
       "      <th>Drug_Regimen</th>\n",
       "      <th>Sex</th>\n",
       "      <th>Age_months</th>\n",
       "      <th>Weight(g)</th>\n",
       "      <th>Timepoint</th>\n",
       "      <th>Tumor_Volume(mm3)</th>\n",
       "      <th>Metastatic_Sites</th>\n",
       "    </tr>\n",
       "  </thead>\n",
       "  <tbody>\n",
       "    <tr>\n",
       "      <th>0</th>\n",
       "      <td>k403</td>\n",
       "      <td>Ramicane</td>\n",
       "      <td>Male</td>\n",
       "      <td>21</td>\n",
       "      <td>16</td>\n",
       "      <td>0</td>\n",
       "      <td>45.000000</td>\n",
       "      <td>0</td>\n",
       "    </tr>\n",
       "    <tr>\n",
       "      <th>1</th>\n",
       "      <td>k403</td>\n",
       "      <td>Ramicane</td>\n",
       "      <td>Male</td>\n",
       "      <td>21</td>\n",
       "      <td>16</td>\n",
       "      <td>5</td>\n",
       "      <td>38.825898</td>\n",
       "      <td>0</td>\n",
       "    </tr>\n",
       "    <tr>\n",
       "      <th>2</th>\n",
       "      <td>k403</td>\n",
       "      <td>Ramicane</td>\n",
       "      <td>Male</td>\n",
       "      <td>21</td>\n",
       "      <td>16</td>\n",
       "      <td>10</td>\n",
       "      <td>35.014271</td>\n",
       "      <td>1</td>\n",
       "    </tr>\n",
       "    <tr>\n",
       "      <th>3</th>\n",
       "      <td>k403</td>\n",
       "      <td>Ramicane</td>\n",
       "      <td>Male</td>\n",
       "      <td>21</td>\n",
       "      <td>16</td>\n",
       "      <td>15</td>\n",
       "      <td>34.223992</td>\n",
       "      <td>1</td>\n",
       "    </tr>\n",
       "    <tr>\n",
       "      <th>4</th>\n",
       "      <td>k403</td>\n",
       "      <td>Ramicane</td>\n",
       "      <td>Male</td>\n",
       "      <td>21</td>\n",
       "      <td>16</td>\n",
       "      <td>20</td>\n",
       "      <td>32.997729</td>\n",
       "      <td>1</td>\n",
       "    </tr>\n",
       "  </tbody>\n",
       "</table>\n",
       "</div>"
      ],
      "text/plain": [
       "  Mouse_ID Drug_Regimen   Sex  Age_months  Weight(g)  Timepoint  \\\n",
       "0     k403     Ramicane  Male          21         16          0   \n",
       "1     k403     Ramicane  Male          21         16          5   \n",
       "2     k403     Ramicane  Male          21         16         10   \n",
       "3     k403     Ramicane  Male          21         16         15   \n",
       "4     k403     Ramicane  Male          21         16         20   \n",
       "\n",
       "   Tumor_Volume(mm3)  Metastatic_Sites  \n",
       "0          45.000000                 0  \n",
       "1          38.825898                 0  \n",
       "2          35.014271                 1  \n",
       "3          34.223992                 1  \n",
       "4          32.997729                 1  "
      ]
     },
     "execution_count": 1,
     "metadata": {},
     "output_type": "execute_result"
    }
   ],
   "source": [
    "# Dependencies and Setup\n",
    "import matplotlib\n",
    "import matplotlib.pyplot as plt\n",
    "import pandas as pd\n",
    "import scipy.stats as st\n",
    "from scipy import stats\n",
    "import numpy as np\n",
    "\n",
    "# Study data files\n",
    "mouse_metadata_path = \"data/Mouse_metadata.csv\"\n",
    "study_results_path = \"data/Study_results.csv\"\n",
    "\n",
    "# Read the mouse data and the study results\n",
    "mouse_metadata = pd.read_csv(mouse_metadata_path)\n",
    "study_results = pd.read_csv(study_results_path)\n",
    "\n",
    "# Combine the data into a single dataset\n",
    "mouse_study = pd.merge(mouse_metadata, study_results, how=\"left\", on=[\"Mouse ID\"])\n",
    "\n",
    "mouse_study = mouse_study.rename(\n",
    "    columns={\"Mouse ID\": \"Mouse_ID\",\n",
    "            \"Drug Regimen\": \"Drug_Regimen\",\n",
    "            \"Weight (g)\": \"Weight(g)\",\n",
    "            \"Tumor Volume (mm3)\": \"Tumor_Volume(mm3)\",\n",
    "            \"Metastatic Sites\": \"Metastatic_Sites\"})\n",
    "\n",
    "# Display the data table for preview\n",
    "mouse_study.head()"
   ]
  },
  {
   "cell_type": "code",
   "execution_count": 2,
   "metadata": {},
   "outputs": [
    {
     "data": {
      "text/plain": [
       "249"
      ]
     },
     "execution_count": 2,
     "metadata": {},
     "output_type": "execute_result"
    }
   ],
   "source": [
    "# Checking the number of mice.\n",
    "mouse_study.Mouse_ID.nunique(dropna = True) "
   ]
  },
  {
   "cell_type": "code",
   "execution_count": 3,
   "metadata": {},
   "outputs": [
    {
     "name": "stdout",
     "output_type": "stream",
     "text": [
      "908    g989\n",
      "909    g989\n",
      "910    g989\n",
      "911    g989\n",
      "912    g989\n",
      "913    g989\n",
      "914    g989\n",
      "915    g989\n",
      "916    g989\n",
      "917    g989\n",
      "Name: Mouse_ID, dtype: object\n"
     ]
    }
   ],
   "source": [
    "# Getting the duplicate mice by ID number that shows up for Mouse ID and Timepoint. \n",
    "duplicate_mice = mouse_study[mouse_study.duplicated(['Mouse_ID', 'Timepoint'], keep=False)]\n",
    "print(duplicate_mice['Mouse_ID'])"
   ]
  },
  {
   "cell_type": "code",
   "execution_count": 4,
   "metadata": {},
   "outputs": [
    {
     "data": {
      "text/html": [
       "<div>\n",
       "<style scoped>\n",
       "    .dataframe tbody tr th:only-of-type {\n",
       "        vertical-align: middle;\n",
       "    }\n",
       "\n",
       "    .dataframe tbody tr th {\n",
       "        vertical-align: top;\n",
       "    }\n",
       "\n",
       "    .dataframe thead th {\n",
       "        text-align: right;\n",
       "    }\n",
       "</style>\n",
       "<table border=\"1\" class=\"dataframe\">\n",
       "  <thead>\n",
       "    <tr style=\"text-align: right;\">\n",
       "      <th></th>\n",
       "      <th>Mouse_ID</th>\n",
       "      <th>Drug_Regimen</th>\n",
       "      <th>Sex</th>\n",
       "      <th>Age_months</th>\n",
       "      <th>Weight(g)</th>\n",
       "      <th>Timepoint</th>\n",
       "      <th>Tumor_Volume(mm3)</th>\n",
       "      <th>Metastatic_Sites</th>\n",
       "    </tr>\n",
       "  </thead>\n",
       "  <tbody>\n",
       "    <tr>\n",
       "      <th>908</th>\n",
       "      <td>g989</td>\n",
       "      <td>Propriva</td>\n",
       "      <td>Female</td>\n",
       "      <td>21</td>\n",
       "      <td>26</td>\n",
       "      <td>0</td>\n",
       "      <td>45.000000</td>\n",
       "      <td>0</td>\n",
       "    </tr>\n",
       "    <tr>\n",
       "      <th>909</th>\n",
       "      <td>g989</td>\n",
       "      <td>Propriva</td>\n",
       "      <td>Female</td>\n",
       "      <td>21</td>\n",
       "      <td>26</td>\n",
       "      <td>0</td>\n",
       "      <td>45.000000</td>\n",
       "      <td>0</td>\n",
       "    </tr>\n",
       "    <tr>\n",
       "      <th>910</th>\n",
       "      <td>g989</td>\n",
       "      <td>Propriva</td>\n",
       "      <td>Female</td>\n",
       "      <td>21</td>\n",
       "      <td>26</td>\n",
       "      <td>5</td>\n",
       "      <td>48.786801</td>\n",
       "      <td>0</td>\n",
       "    </tr>\n",
       "    <tr>\n",
       "      <th>911</th>\n",
       "      <td>g989</td>\n",
       "      <td>Propriva</td>\n",
       "      <td>Female</td>\n",
       "      <td>21</td>\n",
       "      <td>26</td>\n",
       "      <td>5</td>\n",
       "      <td>47.570392</td>\n",
       "      <td>0</td>\n",
       "    </tr>\n",
       "    <tr>\n",
       "      <th>912</th>\n",
       "      <td>g989</td>\n",
       "      <td>Propriva</td>\n",
       "      <td>Female</td>\n",
       "      <td>21</td>\n",
       "      <td>26</td>\n",
       "      <td>10</td>\n",
       "      <td>51.745156</td>\n",
       "      <td>0</td>\n",
       "    </tr>\n",
       "    <tr>\n",
       "      <th>913</th>\n",
       "      <td>g989</td>\n",
       "      <td>Propriva</td>\n",
       "      <td>Female</td>\n",
       "      <td>21</td>\n",
       "      <td>26</td>\n",
       "      <td>10</td>\n",
       "      <td>49.880528</td>\n",
       "      <td>0</td>\n",
       "    </tr>\n",
       "    <tr>\n",
       "      <th>914</th>\n",
       "      <td>g989</td>\n",
       "      <td>Propriva</td>\n",
       "      <td>Female</td>\n",
       "      <td>21</td>\n",
       "      <td>26</td>\n",
       "      <td>15</td>\n",
       "      <td>51.325852</td>\n",
       "      <td>1</td>\n",
       "    </tr>\n",
       "    <tr>\n",
       "      <th>915</th>\n",
       "      <td>g989</td>\n",
       "      <td>Propriva</td>\n",
       "      <td>Female</td>\n",
       "      <td>21</td>\n",
       "      <td>26</td>\n",
       "      <td>15</td>\n",
       "      <td>53.442020</td>\n",
       "      <td>0</td>\n",
       "    </tr>\n",
       "    <tr>\n",
       "      <th>916</th>\n",
       "      <td>g989</td>\n",
       "      <td>Propriva</td>\n",
       "      <td>Female</td>\n",
       "      <td>21</td>\n",
       "      <td>26</td>\n",
       "      <td>20</td>\n",
       "      <td>55.326122</td>\n",
       "      <td>1</td>\n",
       "    </tr>\n",
       "    <tr>\n",
       "      <th>917</th>\n",
       "      <td>g989</td>\n",
       "      <td>Propriva</td>\n",
       "      <td>Female</td>\n",
       "      <td>21</td>\n",
       "      <td>26</td>\n",
       "      <td>20</td>\n",
       "      <td>54.657650</td>\n",
       "      <td>1</td>\n",
       "    </tr>\n",
       "    <tr>\n",
       "      <th>918</th>\n",
       "      <td>g989</td>\n",
       "      <td>Propriva</td>\n",
       "      <td>Female</td>\n",
       "      <td>21</td>\n",
       "      <td>26</td>\n",
       "      <td>25</td>\n",
       "      <td>56.045564</td>\n",
       "      <td>1</td>\n",
       "    </tr>\n",
       "    <tr>\n",
       "      <th>919</th>\n",
       "      <td>g989</td>\n",
       "      <td>Propriva</td>\n",
       "      <td>Female</td>\n",
       "      <td>21</td>\n",
       "      <td>26</td>\n",
       "      <td>30</td>\n",
       "      <td>59.082294</td>\n",
       "      <td>1</td>\n",
       "    </tr>\n",
       "    <tr>\n",
       "      <th>920</th>\n",
       "      <td>g989</td>\n",
       "      <td>Propriva</td>\n",
       "      <td>Female</td>\n",
       "      <td>21</td>\n",
       "      <td>26</td>\n",
       "      <td>35</td>\n",
       "      <td>62.570880</td>\n",
       "      <td>2</td>\n",
       "    </tr>\n",
       "  </tbody>\n",
       "</table>\n",
       "</div>"
      ],
      "text/plain": [
       "    Mouse_ID Drug_Regimen     Sex  Age_months  Weight(g)  Timepoint  \\\n",
       "908     g989     Propriva  Female          21         26          0   \n",
       "909     g989     Propriva  Female          21         26          0   \n",
       "910     g989     Propriva  Female          21         26          5   \n",
       "911     g989     Propriva  Female          21         26          5   \n",
       "912     g989     Propriva  Female          21         26         10   \n",
       "913     g989     Propriva  Female          21         26         10   \n",
       "914     g989     Propriva  Female          21         26         15   \n",
       "915     g989     Propriva  Female          21         26         15   \n",
       "916     g989     Propriva  Female          21         26         20   \n",
       "917     g989     Propriva  Female          21         26         20   \n",
       "918     g989     Propriva  Female          21         26         25   \n",
       "919     g989     Propriva  Female          21         26         30   \n",
       "920     g989     Propriva  Female          21         26         35   \n",
       "\n",
       "     Tumor_Volume(mm3)  Metastatic_Sites  \n",
       "908          45.000000                 0  \n",
       "909          45.000000                 0  \n",
       "910          48.786801                 0  \n",
       "911          47.570392                 0  \n",
       "912          51.745156                 0  \n",
       "913          49.880528                 0  \n",
       "914          51.325852                 1  \n",
       "915          53.442020                 0  \n",
       "916          55.326122                 1  \n",
       "917          54.657650                 1  \n",
       "918          56.045564                 1  \n",
       "919          59.082294                 1  \n",
       "920          62.570880                 2  "
      ]
     },
     "execution_count": 4,
     "metadata": {},
     "output_type": "execute_result"
    }
   ],
   "source": [
    "# Optional: Get all the data for the duplicate mouse ID. \n",
    "mouse_study.loc[mouse_study['Mouse_ID'] == 'g989']"
   ]
  },
  {
   "cell_type": "code",
   "execution_count": 5,
   "metadata": {},
   "outputs": [
    {
     "data": {
      "text/plain": [
       "248"
      ]
     },
     "execution_count": 5,
     "metadata": {},
     "output_type": "execute_result"
    }
   ],
   "source": [
    "# Create a clean DataFrame by dropping the duplicate mouse by its ID.\n",
    "#clean_mouse_study = mouse_study.drop_duplicates(['Mouse_ID','Timepoint'],keep=False)\n",
    "clean_mouse_study = mouse_study.loc[mouse_study['Mouse_ID'] != 'g989']\n",
    "\n",
    "# Checking the number of mice in the clean DataFrame.\n",
    "clean_mouse_study.Mouse_ID.nunique(dropna = True) "
   ]
  },
  {
   "cell_type": "markdown",
   "metadata": {},
   "source": [
    "## Summary Statistics"
   ]
  },
  {
   "cell_type": "code",
   "execution_count": 6,
   "metadata": {},
   "outputs": [
    {
     "data": {
      "text/html": [
       "<div>\n",
       "<style scoped>\n",
       "    .dataframe tbody tr th:only-of-type {\n",
       "        vertical-align: middle;\n",
       "    }\n",
       "\n",
       "    .dataframe tbody tr th {\n",
       "        vertical-align: top;\n",
       "    }\n",
       "\n",
       "    .dataframe thead th {\n",
       "        text-align: right;\n",
       "    }\n",
       "</style>\n",
       "<table border=\"1\" class=\"dataframe\">\n",
       "  <thead>\n",
       "    <tr style=\"text-align: right;\">\n",
       "      <th></th>\n",
       "      <th>Mean Tumor Volume</th>\n",
       "      <th>Median Tumor Volume</th>\n",
       "      <th>Variance of Tumor Volume</th>\n",
       "      <th>Standard Deviation of Tumor Volume</th>\n",
       "      <th>SEM of Tumor Volume</th>\n",
       "    </tr>\n",
       "    <tr>\n",
       "      <th>Drug_Regimen</th>\n",
       "      <th></th>\n",
       "      <th></th>\n",
       "      <th></th>\n",
       "      <th></th>\n",
       "      <th></th>\n",
       "    </tr>\n",
       "  </thead>\n",
       "  <tbody>\n",
       "    <tr>\n",
       "      <th>Capomulin</th>\n",
       "      <td>40.675741</td>\n",
       "      <td>41.557809</td>\n",
       "      <td>24.947764</td>\n",
       "      <td>4.994774</td>\n",
       "      <td>0.329346</td>\n",
       "    </tr>\n",
       "    <tr>\n",
       "      <th>Ceftamin</th>\n",
       "      <td>52.591172</td>\n",
       "      <td>51.776157</td>\n",
       "      <td>39.290177</td>\n",
       "      <td>6.268188</td>\n",
       "      <td>0.469821</td>\n",
       "    </tr>\n",
       "    <tr>\n",
       "      <th>Infubinol</th>\n",
       "      <td>52.884795</td>\n",
       "      <td>51.820584</td>\n",
       "      <td>43.128684</td>\n",
       "      <td>6.567243</td>\n",
       "      <td>0.492236</td>\n",
       "    </tr>\n",
       "    <tr>\n",
       "      <th>Ketapril</th>\n",
       "      <td>55.235638</td>\n",
       "      <td>53.698743</td>\n",
       "      <td>68.553577</td>\n",
       "      <td>8.279709</td>\n",
       "      <td>0.603860</td>\n",
       "    </tr>\n",
       "    <tr>\n",
       "      <th>Naftisol</th>\n",
       "      <td>54.331565</td>\n",
       "      <td>52.509285</td>\n",
       "      <td>66.173479</td>\n",
       "      <td>8.134708</td>\n",
       "      <td>0.596466</td>\n",
       "    </tr>\n",
       "    <tr>\n",
       "      <th>Placebo</th>\n",
       "      <td>54.033581</td>\n",
       "      <td>52.288934</td>\n",
       "      <td>61.168083</td>\n",
       "      <td>7.821003</td>\n",
       "      <td>0.581331</td>\n",
       "    </tr>\n",
       "    <tr>\n",
       "      <th>Propriva</th>\n",
       "      <td>52.320930</td>\n",
       "      <td>50.446266</td>\n",
       "      <td>43.852013</td>\n",
       "      <td>6.622085</td>\n",
       "      <td>0.544332</td>\n",
       "    </tr>\n",
       "    <tr>\n",
       "      <th>Ramicane</th>\n",
       "      <td>40.216745</td>\n",
       "      <td>40.673236</td>\n",
       "      <td>23.486704</td>\n",
       "      <td>4.846308</td>\n",
       "      <td>0.320955</td>\n",
       "    </tr>\n",
       "    <tr>\n",
       "      <th>Stelasyn</th>\n",
       "      <td>54.233149</td>\n",
       "      <td>52.431737</td>\n",
       "      <td>59.450562</td>\n",
       "      <td>7.710419</td>\n",
       "      <td>0.573111</td>\n",
       "    </tr>\n",
       "    <tr>\n",
       "      <th>Zoniferol</th>\n",
       "      <td>53.236507</td>\n",
       "      <td>51.818479</td>\n",
       "      <td>48.533355</td>\n",
       "      <td>6.966589</td>\n",
       "      <td>0.516398</td>\n",
       "    </tr>\n",
       "  </tbody>\n",
       "</table>\n",
       "</div>"
      ],
      "text/plain": [
       "              Mean Tumor Volume  Median Tumor Volume  \\\n",
       "Drug_Regimen                                           \n",
       "Capomulin             40.675741            41.557809   \n",
       "Ceftamin              52.591172            51.776157   \n",
       "Infubinol             52.884795            51.820584   \n",
       "Ketapril              55.235638            53.698743   \n",
       "Naftisol              54.331565            52.509285   \n",
       "Placebo               54.033581            52.288934   \n",
       "Propriva              52.320930            50.446266   \n",
       "Ramicane              40.216745            40.673236   \n",
       "Stelasyn              54.233149            52.431737   \n",
       "Zoniferol             53.236507            51.818479   \n",
       "\n",
       "              Variance of Tumor Volume  Standard Deviation of Tumor Volume  \\\n",
       "Drug_Regimen                                                                 \n",
       "Capomulin                    24.947764                            4.994774   \n",
       "Ceftamin                     39.290177                            6.268188   \n",
       "Infubinol                    43.128684                            6.567243   \n",
       "Ketapril                     68.553577                            8.279709   \n",
       "Naftisol                     66.173479                            8.134708   \n",
       "Placebo                      61.168083                            7.821003   \n",
       "Propriva                     43.852013                            6.622085   \n",
       "Ramicane                     23.486704                            4.846308   \n",
       "Stelasyn                     59.450562                            7.710419   \n",
       "Zoniferol                    48.533355                            6.966589   \n",
       "\n",
       "              SEM of Tumor Volume  \n",
       "Drug_Regimen                       \n",
       "Capomulin                0.329346  \n",
       "Ceftamin                 0.469821  \n",
       "Infubinol                0.492236  \n",
       "Ketapril                 0.603860  \n",
       "Naftisol                 0.596466  \n",
       "Placebo                  0.581331  \n",
       "Propriva                 0.544332  \n",
       "Ramicane                 0.320955  \n",
       "Stelasyn                 0.573111  \n",
       "Zoniferol                0.516398  "
      ]
     },
     "execution_count": 6,
     "metadata": {},
     "output_type": "execute_result"
    }
   ],
   "source": [
    "# Generate a summary statistics table of mean, median, variance, standard deviation & SEM of the tumor volume for each regimen\n",
    "\n",
    "regimen_summary = clean_mouse_study.groupby(['Drug_Regimen'])\n",
    "\n",
    "mean_clean_mouse = regimen_summary[\"Tumor_Volume(mm3)\"].mean()\n",
    "median_clean_mouse = regimen_summary[\"Tumor_Volume(mm3)\"].median()\n",
    "var_clean_mouse = regimen_summary[\"Tumor_Volume(mm3)\"].var()\n",
    "std_clean_mouse = regimen_summary[\"Tumor_Volume(mm3)\"].std()\n",
    "sem_clean_mouse = regimen_summary[\"Tumor_Volume(mm3)\"].sem()\n",
    "\n",
    "# Create new Dataframe\n",
    "\n",
    "regimen_summary_df = pd.DataFrame({\n",
    "                                  \"Mean Tumor Volume\": mean_clean_mouse,\n",
    "                                  \"Median Tumor Volume\": median_clean_mouse,\n",
    "                                  \"Variance of Tumor Volume\": var_clean_mouse,\n",
    "                                  \"Standard Deviation of Tumor Volume\": std_clean_mouse,\n",
    "                                  \"SEM of Tumor Volume\": sem_clean_mouse,\n",
    "                                 })\n",
    "\n",
    "regimen_summary_df"
   ]
  },
  {
   "cell_type": "code",
   "execution_count": 26,
   "metadata": {},
   "outputs": [
    {
     "data": {
      "text/html": [
       "<div>\n",
       "<style scoped>\n",
       "    .dataframe tbody tr th:only-of-type {\n",
       "        vertical-align: middle;\n",
       "    }\n",
       "\n",
       "    .dataframe tbody tr th {\n",
       "        vertical-align: top;\n",
       "    }\n",
       "\n",
       "    .dataframe thead th {\n",
       "        text-align: right;\n",
       "    }\n",
       "</style>\n",
       "<table border=\"1\" class=\"dataframe\">\n",
       "  <thead>\n",
       "    <tr style=\"text-align: right;\">\n",
       "      <th></th>\n",
       "      <th>Mean Tumor Volume</th>\n",
       "      <th>Median Tumor Volume</th>\n",
       "      <th>Variance of Tumor Volume</th>\n",
       "      <th>Standard Deviation of Tumor Volume</th>\n",
       "      <th>SEM of Tumor Volume</th>\n",
       "    </tr>\n",
       "    <tr>\n",
       "      <th>Drug_Regimen</th>\n",
       "      <th></th>\n",
       "      <th></th>\n",
       "      <th></th>\n",
       "      <th></th>\n",
       "      <th></th>\n",
       "    </tr>\n",
       "  </thead>\n",
       "  <tbody>\n",
       "    <tr>\n",
       "      <th>Capomulin</th>\n",
       "      <td>40.675741</td>\n",
       "      <td>41.557809</td>\n",
       "      <td>24.947764</td>\n",
       "      <td>4.994774</td>\n",
       "      <td>0.329346</td>\n",
       "    </tr>\n",
       "    <tr>\n",
       "      <th>Ceftamin</th>\n",
       "      <td>52.591172</td>\n",
       "      <td>51.776157</td>\n",
       "      <td>39.290177</td>\n",
       "      <td>6.268188</td>\n",
       "      <td>0.469821</td>\n",
       "    </tr>\n",
       "    <tr>\n",
       "      <th>Infubinol</th>\n",
       "      <td>52.884795</td>\n",
       "      <td>51.820584</td>\n",
       "      <td>43.128684</td>\n",
       "      <td>6.567243</td>\n",
       "      <td>0.492236</td>\n",
       "    </tr>\n",
       "    <tr>\n",
       "      <th>Ketapril</th>\n",
       "      <td>55.235638</td>\n",
       "      <td>53.698743</td>\n",
       "      <td>68.553577</td>\n",
       "      <td>8.279709</td>\n",
       "      <td>0.603860</td>\n",
       "    </tr>\n",
       "    <tr>\n",
       "      <th>Naftisol</th>\n",
       "      <td>54.331565</td>\n",
       "      <td>52.509285</td>\n",
       "      <td>66.173479</td>\n",
       "      <td>8.134708</td>\n",
       "      <td>0.596466</td>\n",
       "    </tr>\n",
       "    <tr>\n",
       "      <th>Placebo</th>\n",
       "      <td>54.033581</td>\n",
       "      <td>52.288934</td>\n",
       "      <td>61.168083</td>\n",
       "      <td>7.821003</td>\n",
       "      <td>0.581331</td>\n",
       "    </tr>\n",
       "    <tr>\n",
       "      <th>Propriva</th>\n",
       "      <td>52.320930</td>\n",
       "      <td>50.446266</td>\n",
       "      <td>43.852013</td>\n",
       "      <td>6.622085</td>\n",
       "      <td>0.544332</td>\n",
       "    </tr>\n",
       "    <tr>\n",
       "      <th>Ramicane</th>\n",
       "      <td>40.216745</td>\n",
       "      <td>40.673236</td>\n",
       "      <td>23.486704</td>\n",
       "      <td>4.846308</td>\n",
       "      <td>0.320955</td>\n",
       "    </tr>\n",
       "    <tr>\n",
       "      <th>Stelasyn</th>\n",
       "      <td>54.233149</td>\n",
       "      <td>52.431737</td>\n",
       "      <td>59.450562</td>\n",
       "      <td>7.710419</td>\n",
       "      <td>0.573111</td>\n",
       "    </tr>\n",
       "    <tr>\n",
       "      <th>Zoniferol</th>\n",
       "      <td>53.236507</td>\n",
       "      <td>51.818479</td>\n",
       "      <td>48.533355</td>\n",
       "      <td>6.966589</td>\n",
       "      <td>0.516398</td>\n",
       "    </tr>\n",
       "  </tbody>\n",
       "</table>\n",
       "</div>"
      ],
      "text/plain": [
       "              Mean Tumor Volume  Median Tumor Volume  \\\n",
       "Drug_Regimen                                           \n",
       "Capomulin             40.675741            41.557809   \n",
       "Ceftamin              52.591172            51.776157   \n",
       "Infubinol             52.884795            51.820584   \n",
       "Ketapril              55.235638            53.698743   \n",
       "Naftisol              54.331565            52.509285   \n",
       "Placebo               54.033581            52.288934   \n",
       "Propriva              52.320930            50.446266   \n",
       "Ramicane              40.216745            40.673236   \n",
       "Stelasyn              54.233149            52.431737   \n",
       "Zoniferol             53.236507            51.818479   \n",
       "\n",
       "              Variance of Tumor Volume  Standard Deviation of Tumor Volume  \\\n",
       "Drug_Regimen                                                                 \n",
       "Capomulin                    24.947764                            4.994774   \n",
       "Ceftamin                     39.290177                            6.268188   \n",
       "Infubinol                    43.128684                            6.567243   \n",
       "Ketapril                     68.553577                            8.279709   \n",
       "Naftisol                     66.173479                            8.134708   \n",
       "Placebo                      61.168083                            7.821003   \n",
       "Propriva                     43.852013                            6.622085   \n",
       "Ramicane                     23.486704                            4.846308   \n",
       "Stelasyn                     59.450562                            7.710419   \n",
       "Zoniferol                    48.533355                            6.966589   \n",
       "\n",
       "              SEM of Tumor Volume  \n",
       "Drug_Regimen                       \n",
       "Capomulin                0.329346  \n",
       "Ceftamin                 0.469821  \n",
       "Infubinol                0.492236  \n",
       "Ketapril                 0.603860  \n",
       "Naftisol                 0.596466  \n",
       "Placebo                  0.581331  \n",
       "Propriva                 0.544332  \n",
       "Ramicane                 0.320955  \n",
       "Stelasyn                 0.573111  \n",
       "Zoniferol                0.516398  "
      ]
     },
     "execution_count": 26,
     "metadata": {},
     "output_type": "execute_result"
    }
   ],
   "source": [
    "# Generate a summary statistics table of mean, median, variance, standard deviation & SEM of the tumor volume for each regimen\n",
    "regimen_summary_quick = clean_mouse_study.groupby(\"Drug_Regimen\")['Tumor_Volume(mm3)'].agg(['mean', 'median', 'var', 'std', 'sem'])\n",
    "\n",
    "regimen_summary_quick = regimen_summary_quick.rename(\n",
    "    columns={\"mean\": \"Mean Tumor Volume\",\n",
    "            \"median\": \"Median Tumor Volume\",\n",
    "            \"var\": \"Variance of Tumor Volume\",\n",
    "            \"std\": \"Standard Deviation of Tumor Volume\",\n",
    "            \"sem\": \"SEM of Tumor Volume\"})\n",
    "\n",
    "regimen_summary_quick"
   ]
  },
  {
   "cell_type": "markdown",
   "metadata": {},
   "source": [
    "## Bar and Pie Charts"
   ]
  },
  {
   "cell_type": "markdown",
   "metadata": {},
   "source": [
    "Please note: I have published Bar Charts looking at both the \"Total Mice\" as unique mice used in trials, as well as \"Total Mice Treatments\" showing the number of treatments across all mice in each trial. While the range of mice used is stable across all regimens, there is a larger range in number of treatments across the 24-25 mice per regimen."
   ]
  },
  {
   "cell_type": "code",
   "execution_count": 8,
   "metadata": {},
   "outputs": [],
   "source": [
    "#Create data table looking at unique mice\n",
    "\n",
    "single_mice = clean_mouse_study.drop_duplicates(subset=['Mouse_ID'])\n",
    "cols = ['Mouse_ID','Drug_Regimen','Sex']\n",
    "single_mice = single_mice[cols]\n",
    "\n",
    "#Create counts for bar & pie charts\n",
    "mouse_count = single_mice[\"Drug_Regimen\"].value_counts()\n",
    "gender_count = single_mice[\"Sex\"].value_counts()"
   ]
  },
  {
   "cell_type": "code",
   "execution_count": 48,
   "metadata": {},
   "outputs": [
    {
     "data": {
      "image/png": "[encoded data removed]",
      "text/plain": [
       "<Figure size 432x288 with 1 Axes>"
      ]
     },
     "metadata": {
      "needs_background": "light"
     },
     "output_type": "display_data"
    }
   ],
   "source": [
    "# Bar plot showing the total number of mice (unique) for each treatment throughout the course of the study using pandas.\n",
    "\n",
    "mouse_count.plot(kind = \"bar\", color=\"red\", xlabel = \"Drug Regimen\", ylabel = \"Number of Mice\", \n",
    "                 title = \"Number of Mice used in Trial\", ylim = (0,30))\n",
    "plt.show()"
   ]
  },
  {
   "cell_type": "code",
   "execution_count": 10,
   "metadata": {},
   "outputs": [
    {
     "data": {
      "image/png": "[encoded data removed]",
      "text/plain": [
       "<Figure size 432x288 with 1 Axes>"
      ]
     },
     "metadata": {
      "needs_background": "light"
     },
     "output_type": "display_data"
    }
   ],
   "source": [
    "# Generate a bar plot showing the total number of mice (unique) for each treatment throughout the \n",
    "# course of the study using pyplot. \n",
    "x_axis = mouse_count.index\n",
    "y_axis = mouse_count.values\n",
    "plt.bar(x_axis,y_axis,color = 'r')\n",
    "plt.title('Number of Mice used in Trial')\n",
    "plt.ylabel('Number of Mice')\n",
    "plt.xlabel('Drug Regimen')\n",
    "plt.ylim(0,30)\n",
    "plt.xticks(rotation = 90)\n",
    "plt.show()"
   ]
  },
  {
   "cell_type": "code",
   "execution_count": 11,
   "metadata": {},
   "outputs": [],
   "source": [
    "#Data table looking at all mice treatments\n",
    "\n",
    "cols = ['Mouse_ID','Drug_Regimen','Sex']\n",
    "all_mice_treatments = clean_mouse_study[cols]\n",
    "\n",
    "#Create counts for bar & pie charts\n",
    "all_treatments_count = all_mice_treatments[\"Drug_Regimen\"].value_counts()"
   ]
  },
  {
   "cell_type": "code",
   "execution_count": 40,
   "metadata": {},
   "outputs": [
    {
     "data": {
      "image/png": "[encoded data removed]",
      "text/plain": [
       "<Figure size 432x288 with 1 Axes>"
      ]
     },
     "metadata": {
      "needs_background": "light"
     },
     "output_type": "display_data"
    }
   ],
   "source": [
    "# Bar plot showing the total number of mice treatments throughout the course of the study using pandas.\n",
    "\n",
    "all_treatments_count.plot(kind = \"bar\", color=['purple'], xlabel = \"Drug Regimen\", ylabel = \"Number of Treatments\", \n",
    "                 title = \"Number of Treatments across Mice used in Trial\", ylim = (0,250))\n",
    "plt.show()"
   ]
  },
  {
   "cell_type": "code",
   "execution_count": 13,
   "metadata": {},
   "outputs": [
    {
     "data": {
      "image/png": "[encoded data removed]",
      "text/plain": [
       "<Figure size 432x288 with 1 Axes>"
      ]
     },
     "metadata": {
      "needs_background": "light"
     },
     "output_type": "display_data"
    }
   ],
   "source": [
    "# Bar plot showing the total number of mice (unique) for each treatment throughout the course of the study using pyplot. \n",
    "x_axis = all_treatments_count.index\n",
    "y_axis = all_treatments_count.values\n",
    "plt.bar(x_axis,y_axis,color = 'Purple')\n",
    "plt.title('Number of Treatments across Mice used in Trial')\n",
    "plt.ylabel('Number of Treatments')\n",
    "plt.xlabel('Drug Regimen')\n",
    "plt.ylim(0,250)\n",
    "plt.xticks(rotation = 90)\n",
    "plt.show()"
   ]
  },
  {
   "cell_type": "code",
   "execution_count": 14,
   "metadata": {},
   "outputs": [
    {
     "data": {
      "image/png": "[encoded data removed]",
      "text/plain": [
       "<Figure size 432x288 with 1 Axes>"
      ]
     },
     "metadata": {},
     "output_type": "display_data"
    }
   ],
   "source": [
    "# Generate a pie plot showing the distribution of female versus male mice using pandas\n",
    "\n",
    "gender_count.plot.pie(subplots = True, shadow = True,startangle=0,autopct='%1.1f%%', legend = True, title = \"Distribution of female versus male mice\")\n",
    "\n",
    "plt.show()"
   ]
  },
  {
   "cell_type": "code",
   "execution_count": 15,
   "metadata": {},
   "outputs": [
    {
     "data": {
      "image/png": "[encoded data removed]",
      "text/plain": [
       "<Figure size 432x288 with 1 Axes>"
      ]
     },
     "metadata": {},
     "output_type": "display_data"
    }
   ],
   "source": [
    "# Generate a pie plot showing the distribution of female versus male mice using pyplot\n",
    "\n",
    "labels = [\"Male\",\"Female\"]\n",
    "\n",
    "# The values of each section of the pie chart\n",
    "gender = gender_count\n",
    "\n",
    "# The colors of each section of the pie chart\n",
    "colors = [\"#1f77b4\",\"#ff7f0e\"]\n",
    "\n",
    "plt.pie(gender, labels=labels, colors=colors, autopct=\"%1.1f%%\", shadow=True, startangle=0)\n",
    "plt.legend()\n",
    "plt.ylabel(\"Sex\")\n",
    "plt.title(\"Distribution of female versus male mice\")\n",
    "plt.show()"
   ]
  },
  {
   "cell_type": "markdown",
   "metadata": {},
   "source": [
    "## Quartiles, Outliers and Boxplots"
   ]
  },
  {
   "cell_type": "code",
   "execution_count": 50,
   "metadata": {},
   "outputs": [],
   "source": [
    "# Calculate the final tumor volume of each mouse across four of the treatment regimens:  \n",
    "# Capomulin, Ramicane, Infubinol, and Ceftamin\n",
    "\n",
    "#Set new DF for each of the 4 Regimen\n",
    "\n",
    "capomulin = clean_mouse_study.loc[clean_mouse_study['Drug_Regimen'] == 'Capomulin']\n",
    "ramicane = clean_mouse_study.loc[clean_mouse_study['Drug_Regimen'] == 'Ramicane']\n",
    "infubinol = clean_mouse_study.loc[clean_mouse_study['Drug_Regimen'] == 'Infubinol']\n",
    "ceftamin = clean_mouse_study.loc[clean_mouse_study['Drug_Regimen'] == 'Ceftamin']\n",
    "\n",
    "#Drop duplicates in each DF to look at the last timepoint for each mouse ID\n",
    "last_capomulin = capomulin.drop_duplicates(['Mouse_ID'], keep='last')\n",
    "last_ramicane = ramicane.drop_duplicates(['Mouse_ID'], keep='last')\n",
    "last_infubinol = infubinol.drop_duplicates(['Mouse_ID'], keep='last')\n",
    "last_ceftamin = ceftamin.drop_duplicates(['Mouse_ID'], keep='last')"
   ]
  },
  {
   "cell_type": "code",
   "execution_count": 55,
   "metadata": {},
   "outputs": [
    {
     "data": {
      "text/html": [
       "<div>\n",
       "<style scoped>\n",
       "    .dataframe tbody tr th:only-of-type {\n",
       "        vertical-align: middle;\n",
       "    }\n",
       "\n",
       "    .dataframe tbody tr th {\n",
       "        vertical-align: top;\n",
       "    }\n",
       "\n",
       "    .dataframe thead th {\n",
       "        text-align: right;\n",
       "    }\n",
       "</style>\n",
       "<table border=\"1\" class=\"dataframe\">\n",
       "  <thead>\n",
       "    <tr style=\"text-align: right;\">\n",
       "      <th></th>\n",
       "      <th>Mouse_ID</th>\n",
       "      <th>Drug_Regimen</th>\n",
       "      <th>Sex</th>\n",
       "      <th>Age_months</th>\n",
       "      <th>Weight(g)</th>\n",
       "      <th>Timepoint</th>\n",
       "      <th>Tumor_Volume(mm3)</th>\n",
       "      <th>Metastatic_Sites</th>\n",
       "    </tr>\n",
       "  </thead>\n",
       "  <tbody>\n",
       "    <tr>\n",
       "      <th>669</th>\n",
       "      <td>c326</td>\n",
       "      <td>Infubinol</td>\n",
       "      <td>Female</td>\n",
       "      <td>18</td>\n",
       "      <td>25</td>\n",
       "      <td>5</td>\n",
       "      <td>36.321346</td>\n",
       "      <td>0</td>\n",
       "    </tr>\n",
       "  </tbody>\n",
       "</table>\n",
       "</div>"
      ],
      "text/plain": [
       "    Mouse_ID Drug_Regimen     Sex  Age_months  Weight(g)  Timepoint  \\\n",
       "669     c326    Infubinol  Female          18         25          5   \n",
       "\n",
       "     Tumor_Volume(mm3)  Metastatic_Sites  \n",
       "669          36.321346                 0  "
      ]
     },
     "execution_count": 55,
     "metadata": {},
     "output_type": "execute_result"
    }
   ],
   "source": [
    "# Calculate the IQR and quantitatively determine if there are any potential outliers. \n",
    "\n",
    "#--CAPOMULIN\n",
    "\n",
    "tumor_vol_capomulin = last_capomulin['Tumor_Volume(mm3)']\n",
    "\n",
    "cap_quartiles = tumor_vol_capomulin.quantile([.25,.5,.75])\n",
    "cap_lowerq = cap_quartiles[0.25]\n",
    "cap_upperq = cap_quartiles[0.75]\n",
    "cap_iqr = cap_upperq-cap_lowerq\n",
    "cap_mean = tumor_vol_capomulin.mean()\n",
    "\n",
    "cap_lower_bound = cap_lowerq - (1.5*cap_iqr)\n",
    "cap_upper_bound = cap_upperq + (1.5*cap_iqr)\n",
    "\n",
    "#identify and count potential outliers\n",
    "capomulin_outlier = last_capomulin.loc[(last_capomulin['Tumor_Volume(mm3)'] < cap_lower_bound) | (last_capomulin['Tumor_Volume(mm3)'] > cap_upper_bound)]\n",
    "capomulin_outlier = capomulin_outlier['Mouse_ID'].count()\n",
    "\n",
    "#--RAMICANE\n",
    "\n",
    "tumor_vol_ramicane = last_ramicane['Tumor_Volume(mm3)']\n",
    "\n",
    "ram_quartiles = tumor_vol_ramicane.quantile([.25,.5,.75])\n",
    "ram_lowerq = ram_quartiles[0.25]\n",
    "ram_upperq = ram_quartiles[0.75]\n",
    "ram_iqr = ram_upperq-ram_lowerq\n",
    "ram_mean = tumor_vol_ramicane.mean()\n",
    "\n",
    "ram_lower_bound = ram_lowerq - (1.5*ram_iqr)\n",
    "ram_upper_bound = ram_upperq + (1.5*ram_iqr)\n",
    "\n",
    "#identify and count potential outliers\n",
    "ramicane_outlier = last_ramicane.loc[(last_ramicane['Tumor_Volume(mm3)'] < ram_lower_bound) | (last_ramicane['Tumor_Volume(mm3)'] > ram_upper_bound)]\n",
    "ramicane_outlier = ramicane_outlier['Mouse_ID'].count()\n",
    "\n",
    "#--CEFTAMIN\n",
    "\n",
    "tumor_vol_ceftamin = last_ceftamin['Tumor_Volume(mm3)']\n",
    "\n",
    "cef_quartiles = tumor_vol_ceftamin.quantile([.25,.5,.75])\n",
    "cef_lowerq = cef_quartiles[0.25]\n",
    "cef_upperq = cef_quartiles[0.75]\n",
    "cef_iqr = cef_upperq-cef_lowerq\n",
    "cef_mean = tumor_vol_ceftamin.mean()\n",
    "\n",
    "cef_lower_bound = cef_lowerq - (1.5*cef_iqr)\n",
    "cef_upper_bound = cef_upperq + (1.5*cef_iqr)\n",
    "\n",
    "#identify and count potential outliers\n",
    "ceftamin_outlier = last_ceftamin.loc[(last_ceftamin['Tumor_Volume(mm3)'] < cef_lower_bound) | (last_ceftamin['Tumor_Volume(mm3)'] > cef_upper_bound)]\n",
    "ceftamin_outlier = ceftamin_outlier['Mouse_ID'].count()\n",
    "\n",
    "#--INFUBINOL\n",
    "\n",
    "tumor_vol_infubinol = last_infubinol['Tumor_Volume(mm3)']\n",
    "\n",
    "inf_quartiles = tumor_vol_infubinol.quantile([.25,.5,.75])\n",
    "inf_lowerq = inf_quartiles[0.25]\n",
    "inf_upperq = inf_quartiles[0.75]\n",
    "inf_iqr = inf_upperq-inf_lowerq\n",
    "inf_mean = tumor_vol_infubinol.mean()\n",
    "\n",
    "inf_lower_bound = inf_lowerq - (1.5*inf_iqr)\n",
    "inf_upper_bound = inf_upperq + (1.5*inf_iqr)\n",
    "\n",
    "#identify and count potential outliers\n",
    "infubinol_outlier_df = last_infubinol.loc[(last_infubinol['Tumor_Volume(mm3)'] < inf_lower_bound) | (last_infubinol['Tumor_Volume(mm3)'] > inf_upper_bound)]\n",
    "infubinol_outlier = infubinol_outlier_df['Mouse_ID'].count()\n",
    "\n",
    "infubinol_outlier_df"
   ]
  },
  {
   "cell_type": "code",
   "execution_count": 57,
   "metadata": {},
   "outputs": [
    {
     "name": "stdout",
     "output_type": "stream",
     "text": [
      "For the Capomulin treatment regimen, values below 20.70456164999999 and above 51.83201549 could be outliers. There are 0 values that may be outliers.\n",
      "--------------\n",
      "For the Ramicane treatment regimen, values below 17.912664470000003 and above 54.30681135 could be outliers.  There are 0 values that may be outliers.\n",
      "--------------\n",
      "For the Ceftamin treatment regimen, values below 25.355449580000002 and above 87.66645829999999 could be outliers.  There are 0 values that may be outliers.\n",
      "--------------\n",
      "For the Infubinol treatment regimen, values below 36.83290494999999 and above 82.74144559000001 could be outliers. There are 1 values that may be outliers.\n"
     ]
    }
   ],
   "source": [
    "#print bounds for potential outliers and how many potential outliers have been identified\n",
    "\n",
    "print(f\"For the Capomulin treatment regimen, values below {cap_lower_bound} and above {cap_upper_bound} could be outliers. There are {capomulin_outlier} values that may be outliers.\")\n",
    "print(\"--------------\")\n",
    "print(f\"For the Ramicane treatment regimen, values below {ram_lower_bound} and above {ram_upper_bound} could be outliers.  There are {ramicane_outlier} values that may be outliers.\")\n",
    "print(\"--------------\")\n",
    "print(f\"For the Ceftamin treatment regimen, values below {cef_lower_bound} and above {cef_upper_bound} could be outliers.  There are {ceftamin_outlier} values that may be outliers.\")\n",
    "print(\"--------------\")\n",
    "print(f\"For the Infubinol treatment regimen, values below {inf_lower_bound} and above {inf_upper_bound} could be outliers. There are {infubinol_outlier} values that may be outliers.\")"
   ]
  },
  {
   "cell_type": "code",
   "execution_count": 43,
   "metadata": {},
   "outputs": [
    {
     "data": {
      "image/png": "[encoded data removed]",
      "text/plain": [
       "<Figure size 432x288 with 1 Axes>"
      ]
     },
     "metadata": {
      "needs_background": "light"
     },
     "output_type": "display_data"
    }
   ],
   "source": [
    "# Generate a box plot of the final tumor volume of each mouse across four regimens of interest\n",
    "\n",
    "Tumor_Vol = [tumor_vol_capomulin, tumor_vol_ramicane, tumor_vol_ceftamin, tumor_vol_infubinol]\n",
    "fig1, ax1 = plt.subplots()\n",
    "red_square = dict(markerfacecolor='r', marker='s')\n",
    "labels = ['Capomulin', 'Ramicane', 'Ceftamin', 'Infubinol']\n",
    "ax1.boxplot(Tumor_Vol, flierprops=red_square, labels=labels, patch_artist = True)\n",
    "ax1.set_title('Final Tumor Volume of each Mouse per Regimen')\n",
    "ax1.set_ylabel('Final Tumor Volume(mm3)')\n",
    "ax1.set_xlabel(\"Drug Regimen\")\n",
    "plt.ylim(10,80)\n",
    "plt.show()"
   ]
  },
  {
   "cell_type": "markdown",
   "metadata": {},
   "source": [
    "## Line and Scatter Plots"
   ]
  },
  {
   "cell_type": "code",
   "execution_count": 20,
   "metadata": {},
   "outputs": [
    {
     "data": {
      "image/png": "[encoded data removed]",
      "text/plain": [
       "<Figure size 432x288 with 1 Axes>"
      ]
     },
     "metadata": {
      "needs_background": "light"
     },
     "output_type": "display_data"
    }
   ],
   "source": [
    "# Generate a line plot of time point versus tumor volume for a mouse treated with Capomulin\n",
    "#Set Mouse ID\n",
    "mouse_id = \"s185\"\n",
    "\n",
    "# Collect the data of the selected Mouse ID\n",
    "just_one_mouse = capomulin.loc[(capomulin['Mouse_ID'] == mouse_id)]\n",
    "\n",
    "# Build the line plot based on the selected Mouse\n",
    "just_one_mouse.plot(x='Timepoint', y='Tumor_Volume(mm3)', color='green', linestyle='dashed', marker='o',\n",
    "     markerfacecolor='green', markersize=8)\n",
    "plt.ylabel(\"Tumor Volume\")\n",
    "plt.title(\"Capomulin Treatment of Mouse s185\")\n",
    "plt.xlim(0,47)\n",
    "plt.ylim(20,50)\n",
    "plt.show()"
   ]
  },
  {
   "cell_type": "code",
   "execution_count": 31,
   "metadata": {},
   "outputs": [],
   "source": [
    "# Create variables to calculate per mouse, the weight & average tumor volume\n",
    "mouse_weight = capomulin.groupby(['Mouse_ID'])\n",
    "tumor_avg = mouse_weight[\"Tumor_Volume(mm3)\"].mean()\n",
    "weight = mouse_weight[\"Weight(g)\"].mean()\n",
    "\n",
    "#New dataframe\n",
    "mouse_weight_df = pd.DataFrame({\n",
    "                                \"Mean Tumor Volume\": tumor_avg,\n",
    "                                \"Weight\": weight\n",
    "                                })"
   ]
  },
  {
   "cell_type": "code",
   "execution_count": 32,
   "metadata": {},
   "outputs": [
    {
     "data": {
      "image/png": "[encoded data removed]",
      "text/plain": [
       "<Figure size 432x288 with 1 Axes>"
      ]
     },
     "metadata": {
      "needs_background": "light"
     },
     "output_type": "display_data"
    }
   ],
   "source": [
    "# Generate a scatter plot of mouse weight versus average tumor volume for the Capomulin regimen\n",
    "weight = mouse_weight_df.iloc[:,1]\n",
    "avg_tum_vol = mouse_weight_df.iloc[:,0]\n",
    "plt.scatter(weight,avg_tum_vol)\n",
    "plt.xticks(weight)\n",
    "plt.xlabel('Weight')\n",
    "plt.ylabel('Average Tumor Volume')\n",
    "plt.title(\"Mouse weight v Average Tumor Volume for the Capomulin Regimen\")\n",
    "plt.show()"
   ]
  },
  {
   "cell_type": "markdown",
   "metadata": {},
   "source": [
    "## Correlation and Regression"
   ]
  },
  {
   "cell_type": "code",
   "execution_count": 59,
   "metadata": {},
   "outputs": [
    {
     "data": {
      "image/png": "[encoded data removed]",
      "text/plain": [
       "<Figure size 432x288 with 1 Axes>"
      ]
     },
     "metadata": {
      "needs_background": "light"
     },
     "output_type": "display_data"
    },
    {
     "name": "stdout",
     "output_type": "stream",
     "text": [
      "0.7088568047708717\n"
     ]
    }
   ],
   "source": [
    "# Calculate the correlation coefficient & linear regression model for mouse weight and avg tumor vol for the Capomulin regimen\n",
    "slope, int, r, p, std_err = stats.linregress(weight, avg_tum_vol)\n",
    "\n",
    "regress = weight * slope + int\n",
    "\n",
    "weight = mouse_weight_df.iloc[:,1]\n",
    "avg_tum_vol = mouse_weight_df.iloc[:,0]\n",
    "plt.scatter(weight,avg_tum_vol)\n",
    "plt.plot(weight,regress,\"r-\",linewidth=1)\n",
    "line_eq = \"y = \" + str(round(slope,2)) + \"x + \" + str(round(int,2))\n",
    "plt.xticks(weight)\n",
    "plt.xlabel('Mouse Weight (g)')\n",
    "plt.ylabel('Average Tumor Volume')\n",
    "plt.annotate(line_eq,(20,35),fontsize = 15,color = \"red\")\n",
    "plt.title(\"Linear Regression of Mouse weight v Average Tumor Volume for the Capomulin treatment regimen\")\n",
    "plt.show()"
   ]
  },
  {
   "cell_type": "code",
   "execution_count": 34,
   "metadata": {},
   "outputs": [
    {
     "name": "stdout",
     "output_type": "stream",
     "text": [
      "The correlation between Mouse Weight & Average Tumor Volume is 0.84\n",
      "The R-squared between Mouse Weight & Average Tumor Volume is 0.7088568047708717\n"
     ]
    }
   ],
   "source": [
    "#Use previously created variables to calculate and print correlation & r-squared \n",
    "correlation = st.pearsonr(weight,avg_tum_vol)\n",
    "print(f\"The correlation between Mouse Weight & Average Tumor Volume is {round(correlation[0],2)}\")\n",
    "print(f\"The R-squared between Mouse Weight & Average Tumor Volume is {r**2}\")"
   ]
  }
 ],
 "metadata": {
  "anaconda-cloud": {},
  "kernelspec": {
   "display_name": "Python 3",
   "language": "python",
   "name": "python3"
  },
  "language_info": {
   "codemirror_mode": {
    "name": "ipython",
    "version": 3
   },
   "file_extension": ".py",
   "mimetype": "text/x-python",
   "name": "python",
   "nbconvert_exporter": "python",
   "pygments_lexer": "ipython3",
   "version": "3.8.5"
  }
 },
 "nbformat": 4,
 "nbformat_minor": 2
}
